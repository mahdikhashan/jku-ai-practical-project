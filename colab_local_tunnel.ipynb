{
  "nbformat": 4,
  "nbformat_minor": 0,
  "metadata": {
    "colab": {
      "provenance": [],
      "gpuType": "T4"
    },
    "kernelspec": {
      "name": "python3",
      "display_name": "Python 3"
    },
    "language_info": {
      "name": "python"
    },
    "accelerator": "GPU"
  },
  "cells": [
    {
      "cell_type": "code",
      "execution_count": 1,
      "metadata": {
        "colab": {
          "base_uri": "https://localhost:8080/"
        },
        "id": "-IJjqLt66N_w",
        "outputId": "8f33274c-58d4-47f2-8328-00c81a88eb62"
      },
      "outputs": [
        {
          "output_type": "stream",
          "name": "stdout",
          "text": [
            "Collecting git+https://github.com/amitness/colab-connect.git\n",
            "  Cloning https://github.com/amitness/colab-connect.git to /tmp/pip-req-build-7su5e1zp\n",
            "  Running command git clone --filter=blob:none --quiet https://github.com/amitness/colab-connect.git /tmp/pip-req-build-7su5e1zp\n",
            "  Resolved https://github.com/amitness/colab-connect.git to commit a2e2c7901fc57e4d833645925243582081ee00e8\n",
            "  Preparing metadata (setup.py) ... \u001b[?25l\u001b[?25hdone\n",
            "Building wheels for collected packages: colabconnect\n",
            "  Building wheel for colabconnect (setup.py) ... \u001b[?25l\u001b[?25hdone\n",
            "  Created wheel for colabconnect: filename=colabconnect-0.0.8-py3-none-any.whl size=4901 sha256=208b4212e40d079164e3ae2968751af88b4841179791a5183fb767b342954b79\n",
            "  Stored in directory: /tmp/pip-ephem-wheel-cache-e9liilyl/wheels/a9/e9/4c/3d90592a37b038bc977fc85ed256da2bc4a8f8b34930509307\n",
            "Successfully built colabconnect\n",
            "Installing collected packages: colabconnect\n",
            "Successfully installed colabconnect-0.0.8\n"
          ]
        }
      ],
      "source": [
        "!pip install -U git+https://github.com/amitness/colab-connect.git"
      ]
    },
    {
      "cell_type": "markdown",
      "source": [
        "### Tunnel"
      ],
      "metadata": {
        "id": "MmN4rOZo6t4o"
      }
    },
    {
      "cell_type": "code",
      "source": [
        "from colabconnect import colabconnect\n",
        "\n",
        "colabconnect()"
      ],
      "metadata": {
        "colab": {
          "base_uri": "https://localhost:8080/"
        },
        "id": "q_2doqLZ6s3A",
        "outputId": "e7a0562a-78bc-42c0-f39a-6916945521f9"
      },
      "execution_count": null,
      "outputs": [
        {
          "output_type": "stream",
          "name": "stdout",
          "text": [
            "Mounting Google Drive...\n",
            "Mounted at /content/drive\n",
            "Ran: ln -s /content/drive/MyDrive/colab/ /\n",
            "Installing python libraries...\n",
            "Ran: pip3 install --user flake8 black ipywidgets twine\n",
            "Ran: pip3 install -U ipykernel\n",
            "Ran: apt install htop -y\n",
            "Installing vscode-cli...\n",
            "Ran: curl -Lk https://code.visualstudio.com/sha/download?build=stable&os=cli-alpine-x64 --output vscode_cli.tar.gz\n",
            "Ran: tar -xf vscode_cli.tar.gz\n",
            "Starting the tunnel\n",
            "To grant access to the server, please log into https://github.com/login/device and use code D2F0-CB00\n",
            "Starting the tunnel\n",
            "- Ready!\n",
            "- Open VSCode on your laptop and open the command prompt\n",
            "- Select: 'Remote-Tunnels: Connect to Tunnel' to connect to colab\n",
            "Logs:\n",
            "\n",
            "[2025-10-23 17:35:43] info [tunnels::connections::relay_tunnel_host] Opened new client on channel 2\n",
            "[2025-10-23 17:35:43] info [russh::server] wrote id\n",
            "[2025-10-23 17:35:43] info [russh::server] read other id\n",
            "[2025-10-23 17:35:43] info [russh::server] session is running\n",
            "[2025-10-23 17:35:45] info [rpc.0] Checking /root/.vscode/cli/servers/Stable-7d842fb85a0275a4a8e4d7e040d2625abbf7f084/log.txt and /root/.vscode/cli/servers/Stable-7d842fb85a0275a4a8e4d7e040d2625abbf7f084/pid.txt for a running server...\n",
            "[2025-10-23 17:35:45] info [rpc.0] Downloading Visual Studio Code server -> /tmp/.tmp2oPXJF/vscode-server-linux-x64.tar.gz\n",
            "[2025-10-23 17:35:48] info [rpc.0] Starting server...\n",
            "[2025-10-23 17:35:49] info [rpc.0] Server started\n",
            "[2025-10-23 17:36:03] info [tunnels::connections::relay_tunnel_host] Opened new client on channel 3\n",
            "[2025-10-23 17:36:03] info [russh::server] wrote id\n",
            "[2025-10-23 17:36:03] info [russh::server] read other id\n",
            "[2025-10-23 17:36:03] info [russh::server] session is running\n",
            "[2025-10-23 17:40:20] info [rpc.0] Forwarding port 45519 (public=false)\n"
          ]
        }
      ]
    },
    {
      "cell_type": "code",
      "source": [],
      "metadata": {
        "id": "aVzVInY9Hw39"
      },
      "execution_count": null,
      "outputs": []
    }
  ]
}